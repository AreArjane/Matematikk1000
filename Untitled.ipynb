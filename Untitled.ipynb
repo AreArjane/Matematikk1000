{
 "cells": [
  {
   "cell_type": "code",
   "execution_count": null,
   "id": "c6baa123-cf23-416e-8aa4-a332176b6db6",
   "metadata": {},
   "outputs": [
    {
     "ename": "",
     "evalue": "",
     "output_type": "error",
     "traceback": [
      "\u001b[1;31mRunning cells with 'Python 3.13.0' requires the ipykernel package.\n",
      "\u001b[1;31mRun the following command to install 'ipykernel' into the Python environment. \n",
      "\u001b[1;31mCommand: '/opt/homebrew/bin/python3 -m pip install ipykernel -U --user --force-reinstall'"
     ]
    }
   ],
   "source": [
    "\n",
    "\n",
    "\n",
    "import numpy as np \n",
    "import math as m\n",
    "\n",
    "class Complex: \n",
    "\n",
    "    def tetha_add(self, real, imaginary):\n",
    "        \n",
    "        while(real > 0):\n",
    "            if(imaginary > 0):\n",
    "                tetha = m.atan(imaginary/real)\n",
    "                break\n",
    "            elif(imaginary < 0):\n",
    "                tetha = m.atan(imaginary/real) + 2*m.pi\n",
    "                break \n",
    "            elif(imaginary == 0):\n",
    "                tetha = 0\n",
    "                break\n",
    "            else:\n",
    "                break\n",
    "        while(real < 0):\n",
    "            tetha = m.atan(imaginary/ real) + m.pi \n",
    "            break\n",
    "        while(real == 0):\n",
    "            if(imaginary < 0):\n",
    "                tetha =  -m.pi/2\n",
    "                break\n",
    "            elif(imaginary > 0):\n",
    "                tetha = m.pi/2\n",
    "                break\n",
    "            elif(imaginary == 0):\n",
    "                tetha = None\n",
    "                break\n",
    "        return tetha\n",
    "    def ComplexCalculator(self, n,product):\n",
    "        product = product.replace(\" \", \"\").replace(\"i\", \"j\")\n",
    "        \n",
    "        if \"/\" in product: \n",
    "            \n",
    "            num_str , den_str = product.split(\"/\")\n",
    "            \n",
    "            \n",
    "            try: \n",
    "                numerator   = complex(num_str)\n",
    "                denominator = complex(den_str)\n",
    "                print(numerator)\n",
    "                print(denominator)\n",
    "                \n",
    "                result = numerator / denominator\n",
    "                \n",
    "                relle_nr     = np.real(result)\n",
    "                imaginary_nr = np.imag(result)\n",
    "                print(\"The real number is : \" , relle_nr)\n",
    "                print(\"The imaginary number is : \" , imaginary_nr)\n",
    "                \n",
    "                r = m.sqrt((relle_nr**2)+(imaginary_nr**2))\n",
    "                print(\"The R is : \" , r)\n",
    "                \n",
    "                tan_tetha = self.tetha_add(relle_nr, imaginary_nr)\n",
    "                \n",
    "                \n",
    "                \n",
    "                print(\"The invers tanginus is : \" , tan_tetha)\n",
    "        \n",
    "                \n",
    "            except ValueError:\n",
    "                raise ValueError(\"Format in complex number is not applicable\")\n",
    "        else:\n",
    "\n",
    "            try:\n",
    "                product = complex(product)\n",
    "                print(\"The product is here\", product)\n",
    "                relle_nr = np.real(product)\n",
    "                imaginary_nr = np.imag(product)\n",
    "                print(\"The real number is : \" , relle_nr)\n",
    "                print(\"The imaginary number is : \" , imaginary_nr)\n",
    "            \n",
    "                r = m.sqrt((relle_nr**2)+(imaginary_nr**2))\n",
    "                print(\"The R is : \" , r)\n",
    "\n",
    "                tan_tetha = self.tetha_add(relle_nr, imaginary_nr)\n",
    "                \n",
    "                \n",
    "                \n",
    "                print(\"The invers tanginus is : \" , tan_tetha)\n",
    "            except ValueError:\n",
    "                raise ValueError(\"Format in complex number is not applicable\")\n",
    "   \n",
    "\n"
   ]
  },
  {
   "cell_type": "markdown",
   "id": "432f79a7-fea6-4123-ba1b-19a203ae1f3e",
   "metadata": {},
   "source": [
    "This is the comment"
   ]
  },
  {
   "cell_type": "code",
   "execution_count": null,
   "id": "fdf781d7",
   "metadata": {},
   "outputs": [],
   "source": []
  },
  {
   "cell_type": "markdown",
   "id": "c8d4f807",
   "metadata": {},
   "source": []
  },
  {
   "cell_type": "code",
   "execution_count": 6,
   "id": "ab5245f0",
   "metadata": {},
   "outputs": [
    {
     "name": "stdout",
     "output_type": "stream",
     "text": [
      "The product is here (1+0j)\n",
      "The real number is :  1.0\n",
      "The imaginary number is :  0.0\n",
      "The R is :  1.0\n",
      "The invers tanginus is :  0\n"
     ]
    }
   ],
   "source": [
    "\n",
    "test = Complex()\n",
    "#test.ComplexCalculator(\"2 - j / 2 + 3j\")\n",
    "#test.ComplexCalculator(\"2+2i\")\n",
    "#test.ComplexCalculator(\"3.17-1.14i\")\n",
    "#test.ComplexCalculator(\"-1+2i\")\n",
    "#test.ComplexCalculator(\"-i\")\n",
    "test.ComplexCalculator(1,\"1\")"
   ]
  }
 ],
 "metadata": {
  "kernelspec": {
   "display_name": "Python 3",
   "language": "python",
   "name": "python3"
  },
  "language_info": {
   "codemirror_mode": {
    "name": "ipython",
    "version": 3
   },
   "file_extension": ".py",
   "mimetype": "text/x-python",
   "name": "python",
   "nbconvert_exporter": "python",
   "pygments_lexer": "ipython3",
   "version": "3.13.0"
  }
 },
 "nbformat": 4,
 "nbformat_minor": 5
}
