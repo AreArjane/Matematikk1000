{
 "cells": [
  {
   "cell_type": "markdown",
   "metadata": {},
   "source": [
    "# Finding the Maximal Point of a Function\n",
    "\n",
    "The function we analyze is: $f(x) = e^{-x/4} \\cdot \\arctan x$ Our objective is to confirm that the maximal point is given by the equation: $\\arctan x - \\frac{4}{x^2 + 1} = 0.$\n",
    "---\n",
    "## Differentiating the Function Using the Product Rule\n",
    "Given: $f(x) = e^{-x/4} \\cdot \\arctan x$\n",
    "The derivative follows the product rule: $\\textbf f'(x) = f_1'(x) \\cdot f_2(x) + f_1(x) \\cdot f_2'(x),$\n",
    "where:\n",
    "- $\\textbf f_1(x) = e^{-x/4}$\n",
    "- $\\textbf f_2(x) = \\arctan x$\n",
    "### Step 1: Compute Each Derivative\n",
    "**Derivative of $e^{-x/4}$:**\n",
    "$$\n",
    "f_1'(x) = \\frac{d}{dx} e^{-x/4} = e^{-x/4} \\cdot \\left(-\\frac{1}{4}\\right) = -\\frac{1}{4} e^{-x/4}\n",
    "$$\n",
    "**Derivative of $\\arctan x$:**\n",
    "$$\n",
    "f_2'(x) = \\frac{d}{dx} \\arctan x = \\frac{1}{x^2 + 1}\n",
    "$$\n",
    "\n",
    "---\n",
    "### Step 2: Apply the Product Rule\n",
    "\n",
    "$$\n",
    "f'(x) = \\left(-\\frac{1}{4} e^{-x/4} \\cdot \\arctan x\\right) + \\left(e^{-x/4} \\cdot \\frac{1}{x^2 + 1}\\right)\n",
    "$$\n",
    "\n",
    "Factoring out $\\textbf e^{-x/4}$:\n",
    "\n",
    "$$\n",
    "f'(x) = e^{-x/4} \\left(-\\frac{1}{4} \\arctan x + \\frac{1}{x^2 + 1}\\right)\n",
    "$$\n",
    "\n",
    "---\n",
    "\n",
    "\n",
    "\n",
    "## Finding the Maximal Point\n",
    "\n",
    "To find the critical points, we set $f'(x) = 0$: $e^{-x/4} \\left(-\\frac{1}{4} \\arctan x + \\frac{1}{x^2 + 1}\\right) = 0$\n",
    "\n",
    "Since $\\textbf e^{-x/4}$ is never zero, we solve: $ -\\frac{1}{4} \\arctan x + \\frac{1}{x^2 + 1} = 0 $\n",
    "Multiplying both sides by 4: $ \\arctan x - \\frac{4}{x^2 + 1} = 0$\n",
    "Thus, the maximal point of the function is given by: $ \\arctan x - \\frac{4}{x^2 + 1} = 0 $\n"
   ]
  }
 ],
 "metadata": {
  "language_info": {
   "name": "python"
  }
 },
 "nbformat": 4,
 "nbformat_minor": 2
}
