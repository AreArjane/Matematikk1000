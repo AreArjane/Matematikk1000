{
 "cells": [
  {
   "cell_type": "markdown",
   "metadata": {},
   "source": [
    "# Finding the Maximal Point of a Function\n",
    "\n",
    "The function we analyze is: $f(x) = e^{-x/4} \\cdot \\arctan x$ Our objective is to confirm that the maximal point is given by the equation: $\\arctan x - \\frac{4}{x^2 + 1} = 0.$\n",
    "---\n",
    "## Differentiating the Function Using the Product Rule\n",
    "Given: $f(x) = e^{-x/4} \\cdot \\arctan x$\n",
    "The derivative follows the product rule: $\\textbf f'(x) = f_1'(x) \\cdot f_2(x) + f_1(x) \\cdot f_2'(x),$\n",
    "where:\n",
    "- $\\textbf f_1(x) = e^{-x/4}$\n",
    "- $\\textbf f_2(x) = \\arctan x$\n",
    "### Step 1: Compute Each Derivative\n",
    "**Derivative of $e^{-x/4}$:**\n",
    "$$\n",
    "f_1'(x) = \\frac{d}{dx} e^{-x/4} = e^{-x/4} \\cdot \\left(-\\frac{1}{4}\\right) = -\\frac{1}{4} e^{-x/4}\n",
    "$$\n",
    "**Derivative of $\\arctan x$:**\n",
    "$$\n",
    "f_2'(x) = \\frac{d}{dx} \\arctan x = \\frac{1}{x^2 + 1}\n",
    "$$\n",
    "\n",
    "---\n",
    "### Step 2: Apply the Product Rule\n",
    "\n",
    "$$\n",
    "f'(x) = \\left(-\\frac{1}{4} e^{-x/4} \\cdot \\arctan x\\right) + \\left(e^{-x/4} \\cdot \\frac{1}{x^2 + 1}\\right)\n",
    "$$\n",
    "\n",
    "Factoring out $\\textbf e^{-x/4}$:\n",
    "\n",
    "$$\n",
    "f'(x) = e^{-x/4} \\left(-\\frac{1}{4} \\arctan x + \\frac{1}{x^2 + 1}\\right)\n",
    "$$\n",
    "\n",
    "---\n",
    "\n",
    "\n",
    "\n",
    "## Finding the Maximal Point\n",
    "\n",
    "To find the critical points, we set $f'(x) = 0$: $e^{-x/4} \\left(-\\frac{1}{4} \\arctan x + \\frac{1}{x^2 + 1}\\right) = 0$\n",
    "\n",
    "Since $\\textbf e^{-x/4}$ is never zero, we solve: $ -\\frac{1}{4} \\arctan x + \\frac{1}{x^2 + 1} = 0 $\n",
    "Multiplying both sides by 4: $ \\arctan x - \\frac{4}{x^2 + 1} = 0$\n",
    "Thus, the maximal point of the function is given by: $ \\arctan x - \\frac{4}{x^2 + 1} = 0 $\n"
   ]
  },
  {
   "cell_type": "code",
   "execution_count": 4,
   "metadata": {},
   "outputs": [
    {
     "name": "stderr",
     "output_type": "stream",
     "text": [
      "<>:20: SyntaxWarning: invalid escape sequence '\\c'\n",
      "<>:20: SyntaxWarning: invalid escape sequence '\\c'\n",
      "/var/folders/tm/flcqgtbd1vl1bzvkh0xxnnlm0000gn/T/ipykernel_35430/1451756761.py:20: SyntaxWarning: invalid escape sequence '\\c'\n",
      "  plt.title(\"Plot av $f(x) = e^{-x/4} \\cdot \\arctan x$\")\n",
      "Matplotlib is building the font cache; this may take a moment.\n"
     ]
    },
    {
     "ename": "ModuleNotFoundError",
     "evalue": "No module named 'scipy'",
     "output_type": "error",
     "traceback": [
      "\u001b[0;31m---------------------------------------------------------------------------\u001b[0m",
      "\u001b[0;31mModuleNotFoundError\u001b[0m                       Traceback (most recent call last)",
      "Cell \u001b[0;32mIn[4], line 3\u001b[0m\n\u001b[1;32m      1\u001b[0m \u001b[38;5;28;01mimport\u001b[39;00m\u001b[38;5;250m \u001b[39m\u001b[38;5;21;01mnumpy\u001b[39;00m\u001b[38;5;250m \u001b[39m\u001b[38;5;28;01mas\u001b[39;00m\u001b[38;5;250m \u001b[39m\u001b[38;5;21;01mnp\u001b[39;00m\n\u001b[1;32m      2\u001b[0m \u001b[38;5;28;01mimport\u001b[39;00m\u001b[38;5;250m \u001b[39m\u001b[38;5;21;01mmatplotlib\u001b[39;00m\u001b[38;5;21;01m.\u001b[39;00m\u001b[38;5;21;01mpyplot\u001b[39;00m\u001b[38;5;250m \u001b[39m\u001b[38;5;28;01mas\u001b[39;00m\u001b[38;5;250m \u001b[39m\u001b[38;5;21;01mplt\u001b[39;00m\n\u001b[0;32m----> 3\u001b[0m \u001b[38;5;28;01mfrom\u001b[39;00m\u001b[38;5;250m \u001b[39m\u001b[38;5;21;01mscipy\u001b[39;00m\u001b[38;5;21;01m.\u001b[39;00m\u001b[38;5;21;01moptimize\u001b[39;00m\u001b[38;5;250m \u001b[39m\u001b[38;5;28;01mimport\u001b[39;00m fsolve\n\u001b[1;32m      5\u001b[0m \u001b[38;5;66;03m# Definerer funksjonen f(x)\u001b[39;00m\n\u001b[1;32m      6\u001b[0m \u001b[38;5;28;01mdef\u001b[39;00m\u001b[38;5;250m \u001b[39m\u001b[38;5;21mf\u001b[39m(x):\n",
      "\u001b[0;31mModuleNotFoundError\u001b[0m: No module named 'scipy'"
     ]
    }
   ],
   "source": [
    "import numpy as np\n",
    "import matplotlib.pyplot as plt\n",
    "from scipy.optimize import fsolve\n",
    "\n",
    "# Definerer funksjonen f(x)\n",
    "def f(x):\n",
    "    return np.exp(-x/4) * np.arctan(x)\n",
    "\n",
    "# Lager x-verdier for plottet\n",
    "x_values = np.linspace(-1, 5, 400)\n",
    "y_values = f(x_values)\n",
    "\n",
    "# Plotter funksjonen\n",
    "plt.figure(figsize=(8, 5))\n",
    "plt.plot(x_values, y_values, label=r\"$f(x) = e^{-x/4} \\cdot \\arctan x$\")\n",
    "\n",
    "# Viser plottet\n",
    "plt.xlabel(\"x\")\n",
    "plt.ylabel(\"f(x)\")\n",
    "plt.title(\"Plot av $f(x) = e^{-x/4} \\cdot \\arctan x$\")\n",
    "plt.legend()\n",
    "plt.grid()\n",
    "plt.show()\n",
    "\n"
   ]
  },
  {
   "cell_type": "code",
   "execution_count": null,
   "metadata": {},
   "outputs": [],
   "source": []
  }
 ],
 "metadata": {
  "kernelspec": {
   "display_name": "venv",
   "language": "python",
   "name": "python3"
  },
  "language_info": {
   "codemirror_mode": {
    "name": "ipython",
    "version": 3
   },
   "file_extension": ".py",
   "mimetype": "text/x-python",
   "name": "python",
   "nbconvert_exporter": "python",
   "pygments_lexer": "ipython3",
   "version": "3.13.2"
  }
 },
 "nbformat": 4,
 "nbformat_minor": 2
}
